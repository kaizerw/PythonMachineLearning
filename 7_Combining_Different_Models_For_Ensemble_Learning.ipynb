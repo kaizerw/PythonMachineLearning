{
 "cells": [
  {
   "cell_type": "markdown",
   "metadata": {},
   "source": [
    "# Combining Different Models for Ensemble Learning"
   ]
  },
  {
   "cell_type": "markdown",
   "metadata": {},
   "source": [
    "In the previous chapter, we focused on the best practices for tuning and evaluating different models for classification. In this chapter, we will build upon these techniques and explore different methods for constructing a set of classifiers that can often have a better predictive performance than any of its individual members. We will learn how to do the following:\n",
    "\n",
    "* Make predictions based on majority voting\n",
    "* Use bagging to reduce overfitting by drawing random combinations of the training set with repetition\n",
    "* Apply boosting to build powerful models from *weak learners* that learn from their mistakes"
   ]
  },
  {
   "cell_type": "markdown",
   "metadata": {},
   "source": [
    "# Learning with ensembles"
   ]
  },
  {
   "cell_type": "markdown",
   "metadata": {},
   "source": [
    "The goal of **ensemble methods** is to combine different classifiers into a meta-classifier that has better generalization performance than each individual classifier alone. For example, assuming that we collected predictions from 10 experts, ensemble methods would allow us to strategically combine these predictions by the 10 experts to come up with a prediction that is more accurate and robust than the predictions bt each individual expert. As we will see later in this chapter, there are several different approaches for creating an ensemble of classifiers. In this section, we will introduce a basic perception of how ensembles work and why they are typically recognized for yielding a good generalization performance. \n",
    "\n",
    "In this chapter, we will focus on the most popular ensemble method that use the **majority voting** principle. Majority voting simply means that we select the class label that has been predicted by the majority of classifiers, that is, received more than 50 percent of the votes. Strictly speaking, the term **majority vote** refers to binary class settings only. However, it is easy to generalize the majority voting principle to multi-class settings, which is called **plurality voting**. Here, we select the class label that received the most votes (mode). The following diagram illustrates the concept of majority and plurality voting for an ensemble of 10 classifiers where each unique symbol (triangle, square and circle) represents a unique class label:\n",
    "\n",
    "<img src='images/07_01.png'>\n",
    "\n",
    "Using the training set, we start by training *m* different classifiers ($C_1, \\ldots, C_m$). Depending on the technique, the ensemble can be built from different classification algorithms, for example, decision trees, suport vector machines, logistic regression classifiers, and so on. Alternatively, we can also use the same class classification algorithm, fitting different subsets of the training set. One prominent example of this approach is the random forest algorithm, which combines different decision tree classifiers. The following figure illustrates the concept of a general ensemble approach using majority voting: \n",
    "\n",
    "<img src='images/07_02.png'>\n",
    "\n",
    "To predict a class label via simple majority or plurality voting, we combine the predicted class labels of each individual classifier and select the class label that received the most votes. \n",
    "\n",
    "To illustrate why ensemble methods can work betten than individual classifiers alone, let's apply the simple concepts of combinatorics. For the following example, we make the assumption that all $n$-base classifiers for a binary classification task have an equal error rate $\\epsilon$. Furthermore, we assume that the classifiers are independent and the error rates are not correlated. Under those assumptions, we can simply express the error probability of an ensemble of base classifiers as a probability mass function of a binomial distribution:\n",
    "\n",
    "$$P(y \\ge k) = \\sum_k^n {n \\choose k} \\epsilon^k (1 - 0.25)^{n-k} = \\epsilon_{ensemble}$$\n",
    "\n",
    "Here, ${n \\choose k}$ is the binomial coefficient **n choose k**. In other words, we compute the probability that the prediction of the ensemble is wrong. Now let's take a look at a more concrete example of 11 base classifiers ($n = 11$), where each classifier has an error rate of 0.25 ($\\epsilon = 0.25$):\n",
    "\n",
    "$$P(y \\ge k) = \\sum_{k=6}^{11} {11 \\choose k} 0.25^k (1 - \\epsilon)^{11-k} = 0.034$$"
   ]
  },
  {
   "cell_type": "markdown",
   "metadata": {},
   "source": [
    "As we can see, the error rate of ensemble (0.034) is much lower than the error rate of each individual classifier (0.25) if all the assumptions are met. Note that, in this simplified illustration, a 50-50 split by an even number of classifiers $n$ is treated as an error, whereas this is only true half of time. To compare such an idealistic ensemble classifier to a base classifier over a range of different base error rates, let's implement the probability mass function in Python: "
   ]
  },
  {
   "cell_type": "code",
   "execution_count": 1,
   "metadata": {},
   "outputs": [
    {
     "data": {
      "text/plain": [
       "0.03432750701904297"
      ]
     },
     "execution_count": 1,
     "metadata": {},
     "output_type": "execute_result"
    }
   ],
   "source": [
    "from scipy.special import comb\n",
    "import math\n",
    "\n",
    "def ensemble_error(n_classifier, error):\n",
    "    k_start = int(math.ceil(n_classifier / 2.0))\n",
    "    probs = [comb(n_classifier, k) * error**k * (1-error)**(n_classifier - k) for k in range(k_start, n_classifier + 1)]\n",
    "    return sum(probs)\n",
    "\n",
    "ensemble_error(n_classifier=11, error=0.25)"
   ]
  },
  {
   "cell_type": "markdown",
   "metadata": {},
   "source": [
    "After we have implemented the *ensemble_error* function, we can compute the ensemble error rates for a range of different base errors from 0.0 to 1.0 to visualize the relationship between ensemble and base errors in a line graph: "
   ]
  },
  {
   "cell_type": "code",
   "execution_count": 2,
   "metadata": {},
   "outputs": [
    {
     "data": {
      "image/png": "[encoded data removed]",
      "text/plain": [
       "<Figure size 432x288 with 1 Axes>"
      ]
     },
     "metadata": {},
     "output_type": "display_data"
    }
   ],
   "source": [
    "import numpy as np\n",
    "import matplotlib.pyplot as plt\n",
    "%matplotlib inline\n",
    "\n",
    "error_range = np.arange(0.0, 1.01, 0.01)\n",
    "ens_errors = [ensemble_error(n_classifier=11, error=error)\n",
    "              for error in error_range]\n",
    "plt.plot(error_range, ens_errors, label='Ensemble error', \n",
    "         linewidth=2)\n",
    "plt.plot(error_range, error_range, linestyle='--', \n",
    "         label='Base error', linewidth=2)\n",
    "plt.xlabel('Base error')\n",
    "plt.ylabel('Base/Ensemble error')\n",
    "plt.legend(loc='upper left')\n",
    "plt.grid(alpha=0.5)\n",
    "plt.show()"
   ]
  },
  {
   "cell_type": "markdown",
   "metadata": {},
   "source": [
    "As we can see in the resulting plot, the error probability of an ensemble is always better than the error of an individual base classifier, as long as the base classifiers perform betten than random guessing ($\\epsilon < 0.5$). Note that the $y$-axis depicts the base error (dotted line) as well as the ensemble error (continuous line). "
   ]
  },
  {
   "cell_type": "markdown",
   "metadata": {},
   "source": [
    "## Combining classifiers via majority vote"
   ]
  },
  {
   "cell_type": "markdown",
   "metadata": {},
   "source": [
    "After the short introduction to ensemble learning in the previous section, let's start with a warm-up exercise and implement a simple ensemble classifier for majority voting in Python. \n",
    "\n",
    "Although the majority voting algorithm that we will discuss in this section also generalizes to multi-class settings via plurarity voting, we will use the term majority voting for simplicity, as it is also often done in the literature. "
   ]
  },
  {
   "cell_type": "markdown",
   "metadata": {},
   "source": [
    "## Implementing a simple majority vote classifier"
   ]
  },
  {
   "cell_type": "markdown",
   "metadata": {},
   "source": [
    "The algorithm we we are going ot implement in this section will allow us to combine different classification algorithms associated with individual weights for confidence. Our goal is to build a stronger meta-classifier that balances out the individual classifiers's weaknesses on a particular dataset. \n",
    "\n",
    "To translate the concept of the weighted majority vote into Python, we can use NumPy's convenient *argmax* and *bincount* functions:"
   ]
  },
  {
   "cell_type": "code",
   "execution_count": 4,
   "metadata": {},
   "outputs": [
    {
     "data": {
      "text/plain": [
       "1"
      ]
     },
     "execution_count": 4,
     "metadata": {},
     "output_type": "execute_result"
    }
   ],
   "source": [
    "import numpy as np\n",
    "\n",
    "np.argmax(np.bincount([0, 0, 1], weights=[0.2, 0.2, 0.6]))"
   ]
  },
  {
   "cell_type": "markdown",
   "metadata": {},
   "source": [
    "As we remember from the discussion on logistic regression, certain classifiers in scikit-learn can also return the probability of a predicted class label via the *predict_proba* method. Using the predicted class probabilities instead of the class labels for majority voting can be useful if the classifiers in our ensemble are well calibrated. \n",
    "\n",
    "To implement the weighted majority vote based on class probabilities, we can again make use of NumPy using *numpy.average* and *np.argmax*: "
   ]
  },
  {
   "cell_type": "code",
   "execution_count": 5,
   "metadata": {},
   "outputs": [
    {
     "data": {
      "text/plain": [
       "array([0.58, 0.42])"
      ]
     },
     "execution_count": 5,
     "metadata": {},
     "output_type": "execute_result"
    }
   ],
   "source": [
    "ex = np.array([[0.9, 0.1], \n",
    "               [0.8, 0.2], \n",
    "               [0.4, 0.6]])\n",
    "p = np.average(ex, axis=0, weights=[0.2, 0.2, 0.6])  \n",
    "p"
   ]
  },
  {
   "cell_type": "markdown",
   "metadata": {},
   "source": [
    "Putting everything together, let's new implement *MajorityVoteClassifier* in Python: "
   ]
  },
  {
   "cell_type": "code",
   "execution_count": 12,
   "metadata": {},
   "outputs": [],
   "source": [
    "from sklearn.base import BaseEstimator\n",
    "from sklearn.base import ClassifierMixin\n",
    "from sklearn.preprocessing import LabelEncoder\n",
    "from sklearn.externals import six\n",
    "from sklearn.base import clone\n",
    "from sklearn.pipeline import _name_estimators\n",
    "import numpy as np\n",
    "import operator\n",
    "\n",
    "class MajorityVoteClassifier(BaseEstimator, ClassifierMixin):\n",
    "    \"\"\" A majority vote ensemble classifier\n",
    "    \n",
    "    Parameters\n",
    "    --------------\n",
    "    classifiers : array-like, shape = [n_classifiers]\n",
    "        Different classifiers for the ensemble\n",
    "    \n",
    "    vote : str, {'classlabel', 'probability'}\n",
    "        Default: 'classlabel'\n",
    "        If 'classlabel' the prediction is based on \n",
    "        the argmax of class labels. Else if \n",
    "        'probability', the argmax of the sum of the \n",
    "        probabilities is used to predict the class label \n",
    "        (recommended for calibrated classifiers). \n",
    "        \n",
    "    weights : array-like, shape = [n_classifiers]\n",
    "        Optional, default: None\n",
    "        If a list of 'int' or 'float' values are provided, \n",
    "        the classifiers are weighted by importance; \n",
    "        Uses uniform weights if 'weights=None'. \n",
    "    \"\"\"\n",
    "    \n",
    "    def __init__(self, classifiers, vote='classlabel', \n",
    "                 weights=None):\n",
    "        self.classifiers = classifiers\n",
    "        self.named_classifiers = {key: value for key, value in \n",
    "                                  _name_estimators(classifiers)}\n",
    "        self.vote = vote\n",
    "        self.weights = weights\n",
    "        \n",
    "    def fit(self, X, y):\n",
    "        \"\"\" Fit classifiers.\n",
    "        \n",
    "        Parameters\n",
    "        --------------\n",
    "        X : {array-like, sparse matrix}, \n",
    "            shape = [n_samples, n_features]\n",
    "            Matrix of training samples. \n",
    "        y : array-like, shape = [n_samples]\n",
    "            Vector of target class labels.\n",
    "            \n",
    "        Returns\n",
    "        --------------\n",
    "        self : object \n",
    "        \"\"\"\n",
    "        \n",
    "        # Use LabelEncoder to ensure class labels start\n",
    "        # with 0, which is important for np.argmax\n",
    "        # call in self.predict\n",
    "        self.lablenc__ = LabelEncoder()\n",
    "        self.lablenc_.fit(y)\n",
    "        self.classes_ = self.lablenc_.classes_\n",
    "        self.classifiers_ = []\n",
    "        for clf in self.classifiers:\n",
    "            fitted_clf = clone(clf).fit(X, self.lablenc_.transform(y))\n",
    "            self.classifiers_.append(fitted_clf)\n",
    "        return self\n",
    "    \n",
    "    def predict(self, X):\n",
    "        \"\"\" Predict class labels for X.\n",
    "        \n",
    "        Parameters\n",
    "        --------------\n",
    "        X : {array-like, sparse matrix}, \n",
    "            Shape = [n_samples, n_features]\n",
    "            Matrix of training samples. \n",
    "            \n",
    "        Returns\n",
    "        --------------\n",
    "        maj_vote : array-like, shape = [n_samples]\n",
    "            Predicted class labels.\n",
    "        \"\"\"\n",
    "        \n",
    "        if self.vote == 'probability':\n",
    "            maj_vote= np.argmax(self.predict_proba(X), axis=1)\n",
    "        else: # 'classlabel' vote\n",
    "            # Collect results from clf.predict calls\n",
    "            predictions = np.asarray([clf.predict(X) \n",
    "                                      for clf in \n",
    "                                      self.classifiers_]).T\n",
    "            maj_vote = np.apply_along_axis(lambda x:\n",
    "                                           np.argmax(np.bincount(x), \n",
    "                                                     weights=self.weights), \n",
    "                                           axis=1, arr=predictions)\n",
    "        maj_vote = self.lablenc_.inverse_transform(maj_vote)\n",
    "        return maj_vote\n",
    "    \n",
    "    def predict_proba(self, X):\n",
    "        \"\"\" Predict class probabilities for X.\n",
    "        \n",
    "        Parameters\n",
    "        --------------\n",
    "        X : {array-like, sparse matrix}, \n",
    "            shape = [n_samples, n_features]\n",
    "            Training vectors, where n_samples is \n",
    "            the number of samples and n_features is the \n",
    "            number of features. \n",
    "\n",
    "        Returns\n",
    "        --------------\n",
    "        avg_proba : array-like, \n",
    "            shape = [n_samples, n_classes]\n",
    "            Weighted average probability for \n",
    "            each class per sample. \n",
    "        \"\"\"\n",
    "        \n",
    "        probas = np.array([clf.predict_proba(X)\n",
    "                           for clf in self.classifiers_])\n",
    "        avg_proba = np.average(probas, axis=0, weights=self.weights)\n",
    "        return avg_proba\n",
    "    \n",
    "    def get_params(self, deep=True):\n",
    "        \"\"\" Get classifier parameter names for GridSearch\n",
    "        \"\"\"\n",
    "        \n",
    "        if not deep:\n",
    "            return super(MajorityVoteClassifier, self).get_params(deep=False)\n",
    "        else:\n",
    "            out = self.named_classifiers.copy()\n",
    "            for name, step in six.iteritems(self.named_classifiers):\n",
    "                for key, value in six.iteritems(step.get_params(deep=True)):\n",
    "                    out['%s__%s' % (name, key)] = value\n",
    "            return out"
   ]
  },
  {
   "cell_type": "markdown",
   "metadata": {},
   "source": [
    "Also, note that we defined our own modified version of the *get_params* method to use the *_name_estimators* function to access the paramters of individual classifiers in the ensemble; this may look a little bit complicated at first, but it will make perfect sense when we use grid search for hyperparameter tuning in later sections. "
   ]
  },
  {
   "cell_type": "markdown",
   "metadata": {},
   "source": [
    "## Using the majority voting principle to make predictions"
   ]
  },
  {
   "cell_type": "markdown",
   "metadata": {},
   "source": [
    "Now it is about time to put the *MajorityVoteClassifier* that we implemented into action. But first, let's prepare a dataset that we can test it on. Since we are already familiar with techniques to load datasets from CSV files, we will take a shortcut and load the Iris dataset from scikit-learn's dataset module. Furthermore, we will only select two features, **sepal width** and **petal length**, to make the classification task more challenging for illustration purposes. Although our *MajorityVoteClassifier* generalizes to multiclass problems, we will only classify flower samples from the *Iris-versicolor* and *Iris-virginica* classes, with which we will compute the ROC AUC later. The code is as follows: "
   ]
  },
  {
   "cell_type": "code",
   "execution_count": 15,
   "metadata": {},
   "outputs": [],
   "source": [
    "from sklearn import datasets\n",
    "from sklearn.model_selection import train_test_split\n",
    "from sklearn.preprocessing import StandardScaler\n",
    "from sklearn.preprocessing import LabelEncoder\n",
    "iris = datasets.load_iris()\n",
    "X, y = iris.data[50:, [1, 2]], iris.target[50:]\n",
    "le = LabelEncoder()\n",
    "y = le.fit_transform(y)"
   ]
  },
  {
   "cell_type": "markdown",
   "metadata": {},
   "source": [
    "Next, we split the Iris samples into 50 percent training and 50 percent test data:"
   ]
  },
  {
   "cell_type": "code",
   "execution_count": 16,
   "metadata": {},
   "outputs": [],
   "source": [
    "X_train, X_test, y_train, y_test = \\\n",
    "    train_test_split(X, y, test_size=0.5, \n",
    "                     random_state=1, stratify=y)"
   ]
  },
  {
   "cell_type": "markdown",
   "metadata": {},
   "source": [
    "Using the training dataset, we now will train three different classifiers:\n",
    "* Logistic regression classifier\n",
    "* Decision tree classifier\n",
    "* k-nearest neighbors classifier\n",
    "\n",
    "We then evaluate the model performance of each classifier via 10-fold cross-validation on the training dataset before we combine them into an ensemble classifier: "
   ]
  },
  {
   "cell_type": "code",
   "execution_count": 17,
   "metadata": {},
   "outputs": [
    {
     "name": "stdout",
     "output_type": "stream",
     "text": [
      "10-fold cross validation:\n",
      "\n",
      "ROC AUC: 0.87 (+/- 0.17) [Logistic regression]\n",
      "ROC AUC: 0.89 (+/- 0.16) [Decision tree]\n",
      "ROC AUC: 0.88 (+/- 0.15) [KNN]\n"
     ]
    }
   ],
   "source": [
    "from sklearn.model_selection import cross_val_score\n",
    "from sklearn.linear_model import LogisticRegression\n",
    "from sklearn.tree import DecisionTreeClassifier\n",
    "from sklearn.neighbors import KNeighborsClassifier\n",
    "from sklearn.pipeline import Pipeline\n",
    "import numpy as np\n",
    "\n",
    "clf1 = LogisticRegression(penalty='l2', C=0.001, random_state=1)\n",
    "clf2 = DecisionTreeClassifier(max_depth=1, criterion='entropy', random_state=0)\n",
    "clf3 = KNeighborsClassifier(n_neighbors=1, p=2, metric='minkowski')\n",
    "\n",
    "pipe1 = Pipeline([['sc', StandardScaler()], \n",
    "                  ['clf', clf1]])\n",
    "pipe3 = Pipeline([['sc', StandardScaler()], \n",
    "                  ['clf', clf3]])\n",
    "clf_labels = ['Logistic regression', 'Decision tree', 'KNN']\n",
    "print('10-fold cross validation:\\n')\n",
    "for clf, label in zip([pipe1, clf2, pipe3] , clf_labels):\n",
    "    scores = cross_val_score(estimator=clf, X=X_train, \n",
    "                             y=y_train, cv=10, scoring='roc_auc')\n",
    "    print('ROC AUC: %0.2f (+/- %0.2f) [%s]'\n",
    "          % (scores.mean(), scores.std(), label))"
   ]
  },
  {
   "cell_type": "markdown",
   "metadata": {},
   "source": [
    "Now let's move on to the more exciting part and combine the individual classifiers for majority rule voting in our *MajorityVoteClassifier*: "
   ]
  },
  {
   "cell_type": "code",
   "execution_count": null,
   "metadata": {},
   "outputs": [],
   "source": [
    "mv_clf = MajorityVoteClassifier(classifiers=[pipe1, clf2, pipe3])\n",
    "clf_labels += ['Majority voting']\n",
    "all_clf = [pipe1, clf2, pipe3, mv_clf]\n",
    "for clf, label in zip(all_clf, clf_labels):\n",
    "    scores = cross_val_score(estimator=clf, \n",
    "                             X=X_train, y=y_train, \n",
    "                             cv=10, scoring='roc_auc')\n",
    "    print('Accuracy: %0.2f (+/- %0.2f) [%s]'\n",
    "          %)"
   ]
  }
 ],
 "metadata": {
  "kernelspec": {
   "display_name": "Python 3",
   "language": "python",
   "name": "python3"
  },
  "language_info": {
   "codemirror_mode": {
    "name": "ipython",
    "version": 3
   },
   "file_extension": ".py",
   "mimetype": "text/x-python",
   "name": "python",
   "nbconvert_exporter": "python",
   "pygments_lexer": "ipython3",
   "version": "3.6.4"
  }
 },
 "nbformat": 4,
 "nbformat_minor": 2
}
