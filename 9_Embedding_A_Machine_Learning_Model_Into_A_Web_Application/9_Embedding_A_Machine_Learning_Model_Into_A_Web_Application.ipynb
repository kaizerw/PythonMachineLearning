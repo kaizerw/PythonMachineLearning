{
 "cells": [
  {
   "cell_type": "markdown",
   "metadata": {},
   "source": [
    "# Embedding a Machine Learning Model into a Web Application"
   ]
  },
  {
   "cell_type": "markdown",
   "metadata": {},
   "source": [
    "In the previous chapters, you learned about the many different machine learning concepts and algorithms that can help us with better and more efficient decision-making. However, machine learning techniques are not limited to offline applications and analysis, and they can be the predictive engine of your web services. For example, popular and useful applications of machine learning models in web applications include spam detection in submission forms, search engines, recommendation systems for media or shopping portals, and many more. \n",
    "\n",
    "In this chapter, you will learn how to embed a machine learning model into a web application that can not only classify, but also learn from data in real time. The topics that we will cover are as follows: \n",
    "\n",
    "* Saving the current state of a trained machine learning model\n",
    "* Using SQLite databases for data storage\n",
    "* Developing a web application using the popular Flask web framework\n",
    "* Deploying a machine learning application to a public web server"
   ]
  },
  {
   "cell_type": "markdown",
   "metadata": {},
   "source": [
    "# Serializing fitted scikit-learn estimators"
   ]
  },
  {
   "cell_type": "markdown",
   "metadata": {},
   "source": [
    "Training a machine learning model can be computationally quite expensive, as we have seen previously. Surely we do not want to train our model every time we close our Python interpreter and want to make a new prediction or reload our web application? One option for model persistence is Python's in-built *pickle* module, which allows us to serialize and deserialize Python object structures to compact bytecode so that we can save our classifier in its current state and reload it if we want to classify new samples, without needing the model to learn from the training data all over again. Before you execute the following code, please make sure that you have trained the out-of-core logistic regression model from the last section of the previous chapter and have it ready in your current Python session: "
   ]
  },
  {
   "cell_type": "code",
   "execution_count": 4,
   "metadata": {},
   "outputs": [],
   "source": [
    "'''\n",
    "import pickle \n",
    "import os\n",
    "\n",
    "dest = os.path.join('movieclassifier', 'pkl_objects')\n",
    "if not os.path.exists(dest):\n",
    "    os.makedirs(dest)\n",
    "    \n",
    "pickle.dump(stop, open(os.path.join(dest, 'stopwords.pkl'), 'wb'), protocol=4)\n",
    "pickle.dump(clf, open(os.path.join(dest, 'classifier.pkl'), 'wb'), protocol=4)\n",
    "''';"
   ]
  },
  {
   "cell_type": "markdown",
   "metadata": {},
   "source": [
    "Using the preceding code, we create a *movieclassifier* directory where we will later store the files and data for our web application. Within this *movieclassifier* directory, we created a *pkl_objects* subdirectory to save the serialized Python objects to our local drive. Via the *dump* method of the *pickle* module, we then serialized the trained logistic regression model as well as the stop word set from the **Natural Language Toolkit (NLTK)** library, so that we do not have to install the NLTK vocabulary on our server. \n",
    "\n",
    "The *dump* method takes as its first argument the object that we want to pickle, and for the second argument we provied an open file object that the Python object will be written to. Via the *wb* argument inside the *open* function, we opened the file in binary mode for pickle, and we set *protocol=4* to choose the latest and most efficient pickle protocol that has been added to Python 3.4, which is compatible with Python 3.4 or newer. \n",
    "\n",
    "We do not need to pickle *HashingVectorizer*, since it does not need to be fitted. Instead, we can create a new Python script file from which we can import the vectorizer into our current Python session. Now, copy the following code and save it as *vectorizer.py* in the *movieclassifier* directory: "
   ]
  },
  {
   "cell_type": "code",
   "execution_count": 5,
   "metadata": {},
   "outputs": [],
   "source": [
    "'''\n",
    "from sklearn.feature_extraction.text import HashingVectorizer\n",
    "import re\n",
    "import os\n",
    "import pickle\n",
    "\n",
    "cur_dir = os.path.dirname(__file__)\n",
    "stop = pickle.load(open(os.path.join(cur_dir,'pkl_objects','stopwords.pkl'), 'rb'))\n",
    "\n",
    "def tokenizer(text):\n",
    "    text = re.sub('<[^>]*>', '', text)\n",
    "    emoticons = re.findall('(?::|;|=)(?:-)?(?:\\)|\\(|D|P)',text.lower())\n",
    "    text = re.sub('[\\W]+', ' ', text.lower()) + ' '.join(emoticons).replace('-', '')\n",
    "    tokenized = [w for w in text.split() if w not in stop]\n",
    "    return tokenized\n",
    "\n",
    "vect = HashingVectorizer(decode_error='ignore',n_features=2**21,preprocessor=None,tokenizer=tokenizer)\n",
    "''';"
   ]
  },
  {
   "cell_type": "markdown",
   "metadata": {},
   "source": [
    "After we have pickled the Python objects and created the *vectorizer.py* file, it would now be a good idea to restart our Python interpreter or IPython Notebook kernel to test if we can deserialize the objects without error. \n",
    "\n",
    "From your terminal, navigate to the *movieclassifier* directory, start a new Python session and execute the following code to verify that you can import the *vectorizer* and unpickle the classifier: "
   ]
  },
  {
   "cell_type": "code",
   "execution_count": 8,
   "metadata": {},
   "outputs": [],
   "source": [
    "import pickle\n",
    "import re\n",
    "import os\n",
    "from movieclassifier.vectorizer import vect\n",
    "\n",
    "clf = pickle.load(open(os.path.join('movieclassifier', 'pkl_objects', 'classifier.pkl'), 'rb'))"
   ]
  },
  {
   "cell_type": "markdown",
   "metadata": {},
   "source": [
    "After we have successfully loaded the *vectorizer* and unpickled the classifier, we can now use these objects to preprocess documents samples and make predictions about their sentiment: "
   ]
  },
  {
   "cell_type": "code",
   "execution_count": 10,
   "metadata": {},
   "outputs": [
    {
     "name": "stdout",
     "output_type": "stream",
     "text": [
      "Prediction: positive\n",
      "Probability: 86.25%\n"
     ]
    }
   ],
   "source": [
    "import numpy as np\n",
    "\n",
    "label = {0:'negative', 1:'positive'}\n",
    "\n",
    "example = ['I love this movie']\n",
    "X = vect.transform(example)\n",
    "print('Prediction: %s\\nProbability: %.2f%%'\n",
    "      % (label[clf.predict(X)[0]], np.max(clf.predict_proba(X))*100))"
   ]
  },
  {
   "cell_type": "markdown",
   "metadata": {},
   "source": [
    "Since our classifier returns the class labels as integers, we defined a simple Python dictionary to map these integers to their sentiment. We then used *HashingVectorizer* to transform the simple example document into a word vector *x*. Finally, we used the *predict* method of the logist regression classifier to predict the class label, as well as the *predict_proba* method to return the corresponding probability of our prediction. Note that the *predict_proba* method call returns an array with a probability value for each unique class label. Since the class label with the largest probability corresponds to the class that is returned by the *predict* call, we used the *np.max* function to return the probability of the predicted class. "
   ]
  },
  {
   "cell_type": "markdown",
   "metadata": {},
   "source": [
    "# Setting up an SQLite database for data storage"
   ]
  },
  {
   "cell_type": "markdown",
   "metadata": {},
   "source": [
    "In this section, we wil set up a simple SQLite database to collect optional feedback about the predictions from users of the web application. We can use this feedback to update our classification model. SQLite is a open source SQL database engine that does not require a separate server to operate, which makes it ideal for smaller projects and simple web applications. Essentially, a SQLite dataset can be understood as a single, self-contained database file that allows us to directly access storage files. \n",
    "\n",
    "Furthermore, SQLite does not require any system-specific configuration and is support by all common operating systems. It has gained a reputation for being very reliable as it is used by popular companies, such as Google, Mozilla, Adobe, Apple, Microsoft, and many more. \n",
    "\n",
    "Fortunately, following Python's *batteries included* philosophy, there is already an API in the Python standard library, *sqlite3*, which allows us to work with SQLite databases. \n",
    "\n",
    "By executing the following code, we will create a new SQLite database inside the *movieclassifier* directory and store two example movie reviews: "
   ]
  },
  {
   "cell_type": "code",
   "execution_count": 2,
   "metadata": {},
   "outputs": [],
   "source": [
    "import sqlite3\n",
    "import os\n",
    "\n",
    "bd_file = os.path.join('movieclassifier', 'reviews.sqlite')\n",
    "\n",
    "if os.path.exists(bd_file):\n",
    "    os.remove(bd_file)\n",
    "\n",
    "conn = sqlite3.connect(bd_file)\n",
    "c = conn.cursor()\n",
    "c.execute(\"CREATE TABLE review_db\"\\\n",
    "          \" (review TEXT, sentiment INTEGER, date TEXT)\")\n",
    "\n",
    "example1 = \"I love this movie\"\n",
    "c.execute(\"INSERT INTO review_db\"\\\n",
    "          \" (review, sentiment, date) VALUES\"\\\n",
    "          \" (?, ?, DATETIME('now'))\", (example1, 1))\n",
    "\n",
    "example2 = \"I disliked this movie\"\n",
    "c.execute(\"INSERT INTO review_db\"\\\n",
    "          \" (review, sentiment, date) VALUES\"\\\n",
    "          \" (?, ?, DATETIME('now'))\", (example2, 0))\n",
    "\n",
    "conn.commit()\n",
    "conn.close()"
   ]
  },
  {
   "cell_type": "markdown",
   "metadata": {},
   "source": [
    "Following the preceding code example, we created a connection (*conn*) to a SQLite database file by calling the *connect* method of the *sqlite3* library, which created the new database file *reviews.sqlite* in the *movieclassifier* directory if it did not already exist. Please note that SQLite does not implement a replace function for existing tables; you need to delete the database file manually from your file browser if you want to execute the code a second time. \n",
    "\n",
    "Next, we created a cursor via the *cursor* method, which allows us to transverse over the database records using the versatile SQL syntax. Via the first *execute* call, we then created a new database table, *review_db*. We used this to store and access database entries. Along with *review_db*, we also created three columns in this database table: *review*, *sentiment*, and *date*. We used these to store two example movie reviews and respective class labels (sentiments). \n",
    "\n",
    "Using the *DATETIME('now')* SQL command, we also added date and timestamps to our entries. In addition to the timestamps, we used the question mark symbol (*?*) to pass the movie review texts (*example1* and *example2*) and the corresponding class label (1 and 0) as positional arguments to the *execute* method, as members of a tuple. Lastly, we called the *commit* method to save the changes that we made to the database and closed the connection via the *close* method. \n",
    "\n",
    "To check if the entries have been stored in the database table correctly, we will now reopen the connection to the database and use the SQL *SELECT* command to fetch all rows in the database table that have been commited between the beginning of the year 2017 and today: "
   ]
  },
  {
   "cell_type": "code",
   "execution_count": 3,
   "metadata": {},
   "outputs": [
    {
     "name": "stdout",
     "output_type": "stream",
     "text": [
      "[('I love this movie', 1, '2018-04-13 09:50:09'), ('I disliked this movie', 0, '2018-04-13 09:50:09')]\n"
     ]
    }
   ],
   "source": [
    "conn = sqlite3.connect(bd_file)\n",
    "c = conn.cursor()\n",
    "\n",
    "c.execute(\"SELECT * FROM review_db WHERE date\"\\\n",
    "          \" BETWEEN '2017-01-01 00:00:00' AND DATETIME('now')\")\n",
    "results = c.fetchall()\n",
    "\n",
    "conn.close()\n",
    "print(results)"
   ]
  },
  {
   "cell_type": "markdown",
   "metadata": {},
   "source": [
    "# Developing a web application with Flask"
   ]
  },
  {
   "cell_type": "markdown",
   "metadata": {},
   "source": [
    "Having prepared the code for classifying movie reviews in the previous subsection, let's discuss the basics of the Flask web framework to develop our web application. After Armin Ronacher's initial release of Flask in 2010, the framework has gained huge popularity over the years, and examples of popular applications that make use of Flask include Linkedin and Pinterest. Since Flask is written in Python, it provides us Python programmers with a convenient interface for embedding existing Python code, such as our movie classifier. \n",
    "\n",
    "If the Flask library is not already installed in your current Python environment, you can simply install it via *pip install flask*. "
   ]
  },
  {
   "cell_type": "markdown",
   "metadata": {},
   "source": [
    "## Our first Flask web application"
   ]
  },
  {
   "cell_type": "markdown",
   "metadata": {},
   "source": [
    "In this subsection, we will develop a very simple web application to become more familiar with the Flask API before we implement our movie classifier. This first application we are going to build consists of a simple web page with a form field that let us enter a name. After submitting the name to the web application, it will render it on a new page. While this is a very simple example of web application, it helps with building intuition about how to store and pass variables and values between the different parts of our code within the Flask framework. \n",
    "\n",
    "First, we create a directory tree:"
   ]
  },
  {
   "cell_type": "code",
   "execution_count": 4,
   "metadata": {},
   "outputs": [],
   "source": [
    "'''\n",
    "1st_flask_app1/\n",
    "    app.py\n",
    "    templates/\n",
    "        first_app.html\n",
    "''';"
   ]
  },
  {
   "cell_type": "markdown",
   "metadata": {},
   "source": [
    "The *app.py* file will contain the main code that will be executed by the Python interpreter to run the Flask web application. The *templates* directory is the directory in which Flask will look for static HTML files for rendering in the web browser. Let's now take a look at the contents of *app.py*: "
   ]
  },
  {
   "cell_type": "code",
   "execution_count": 5,
   "metadata": {},
   "outputs": [],
   "source": [
    "'''\n",
    "from flask import Flask, render_template\n",
    "\n",
    "app = Flask(__name__)\n",
    "\n",
    "@app.route('/')\n",
    "def index():\n",
    "    return render_template('first_app.html')\n",
    "\n",
    "if __name__ == '__main__': \n",
    "    app.run()\n",
    "''';"
   ]
  },
  {
   "cell_type": "markdown",
   "metadata": {},
   "source": [
    "After looking at the previous code example, let's discuss the individual pieces step by step: \n",
    "\n",
    "1. We ran our application as a single module; thus we initialized a new Flask instance with the argument *__name__* to let Flask know that it can find the HTML template folder (*templates*) in the same directory where it is located. \n",
    "2. Next, we used the route decorator (*@app.route('/')*) to specify the URL that should trigger the execution of the *index* function. \n",
    "3. Here, our *index* function simply rendered the *first_app.html* HTML file, which is located in the *templates* folder. \n",
    "4. Lastly, we used the *run* function to only run the application on the server when this script is directly executed by the Python interpreter, which we ensured using the *if* statement with *__name__ == '__main__'*. \n",
    "\n",
    "Now, let's take a look at the contents of the *first_app.html* file: "
   ]
  },
  {
   "cell_type": "code",
   "execution_count": 6,
   "metadata": {},
   "outputs": [],
   "source": [
    "'''\n",
    "<!doctype html>\n",
    "<html>\n",
    "    <head>\n",
    "        <title>First app</title>\n",
    "    </head>\n",
    "    <body>\n",
    "        <div>Hi, this is my first Flask web app!</div>\n",
    "    </body>\n",
    "</html>\n",
    "''';"
   ]
  },
  {
   "cell_type": "markdown",
   "metadata": {},
   "source": [
    "Here, we have simply filled an empty HTML template file with a *<div>* element (a block level element) that contains this sentence: *Hi, this is my first Flask web app!*. \n",
    "    \n",
    "Conveniently, Flask allows us to run our applications locally, which is useful for developing and testing web applications before we deploy them on a public web server. Now, let's start our web application by executing the command from the Terminal inside the *1st_first_app* directory: "
   ]
  },
  {
   "cell_type": "code",
   "execution_count": 7,
   "metadata": {},
   "outputs": [],
   "source": [
    "'''\n",
    "python3 app.py\n",
    "''';"
   ]
  },
  {
   "cell_type": "markdown",
   "metadata": {},
   "source": [
    "We should see a line such as the following displayed in the terminal: \n",
    "\n",
    "***Running on http:/127.0.0.1:5000/**\n",
    "\n",
    "This line contains the address of our local server. We can enter this address in our web browser to see the web application in action. If everything has executed correctly, we should see a simple website with the content *Hi, this is my first Flask web app!*. \n",
    "\n",
    "<img src='images/09_09.png'>"
   ]
  },
  {
   "cell_type": "markdown",
   "metadata": {},
   "source": [
    "## Form validation and rendering"
   ]
  },
  {
   "cell_type": "markdown",
   "metadata": {},
   "source": [
    "In this subsection, we will extend our simple Flask web application with HTML form elements to learn how to collect data from a user using the WTForms library, which can be installed via *pip install wtforms*. \n",
    "\n",
    "<img src='images/09_02.png'>\n",
    "\n",
    "<img src='images/09_03.png'>"
   ]
  },
  {
   "cell_type": "markdown",
   "metadata": {},
   "source": [
    "### Setting up the directory structure"
   ]
  },
  {
   "cell_type": "markdown",
   "metadata": {},
   "source": [
    "The new directory structure that we need to set up for this application looks like this:"
   ]
  },
  {
   "cell_type": "code",
   "execution_count": 8,
   "metadata": {},
   "outputs": [],
   "source": [
    "'''\n",
    "1st_flask_app_2/\n",
    "    app.py\n",
    "    static/\n",
    "        style.css\n",
    "    templates/\n",
    "        _formhelpers.html\n",
    "        first_app.html\n",
    "        hello.html\n",
    "''';"
   ]
  },
  {
   "cell_type": "markdown",
   "metadata": {},
   "source": [
    "The following are the contents of our modified *app.py* file:"
   ]
  },
  {
   "cell_type": "code",
   "execution_count": 9,
   "metadata": {},
   "outputs": [],
   "source": [
    "'''\n",
    "from flask import Flask, render_template, request\n",
    "from wtforms import Form, TextAreaField, validators\n",
    "\n",
    "app = Flask(__name__)\n",
    "\n",
    "class HelloForm(Form):\n",
    "    sayhello = TextAreaField('', [validators.DataRequired()])\n",
    "\n",
    "@app.route('/')\n",
    "def index():\n",
    "    form = HelloForm(request.form)\n",
    "    return render_template('first_app.html', form=form)\n",
    "\n",
    "@app.route('/hello', methods=['POST'])\n",
    "def hello():\n",
    "    form = HelloForm(request.form)\n",
    "    if request.method == 'POST' and form.validate():\n",
    "            name = request.form['sayhello']\n",
    "            return render_template('hello.html', name=name)\n",
    "    return render_template('first_app.html', form=form)\n",
    "\n",
    "if __name__ == '__main__': \n",
    "    app.run(debug=True)\n",
    "''';"
   ]
  },
  {
   "cell_type": "markdown",
   "metadata": {},
   "source": [
    "Let's discuss what the previous code does step by step: \n",
    "\n",
    "1. Using *wtforms*, we extended the *index* function with a text field that we will embed in our start page using the *TextAreaField* class, which automatically checks whether a user has provided valid input text or not. \n",
    "2. Furthermore, we defined a new function, *hello*, which will render an HTML page *hello.html* after validating the HTML form. \n",
    "3. Here, we used the *POST* method to transport the form data to the server in the message body. Finally, by setting the *debug=True* argument inside the *app.run* method, we further activated Flask's debugger. This is a useful feature for developing new web applications. "
   ]
  },
  {
   "cell_type": "markdown",
   "metadata": {},
   "source": [
    "### Implementing a macro using the Jinja2 templating engine"
   ]
  },
  {
   "cell_type": "markdown",
   "metadata": {},
   "source": [
    "Now, we will implement a generic macro in the *_formhelpers.html* file via the Jinja2 templating engine, which we will later import in our *first_app.html* file to render the text field: "
   ]
  },
  {
   "cell_type": "code",
   "execution_count": 10,
   "metadata": {},
   "outputs": [],
   "source": [
    "'''\n",
    "{% macro render_field(field) %}\n",
    "    <dt>{{ field.label }}\n",
    "    <dd>{{ field(**kwargs)|safe }}\n",
    "    {% if field.errors %}\n",
    "        <ul class=errors>\n",
    "        {% for error in field.errors %}\n",
    "            <li>{{ error }}</li>\n",
    "        {% endfor %}\n",
    "        </ul>\n",
    "    {% endif %}\n",
    "    </dd>\n",
    "    </dt>\n",
    "{% endmacro %}\n",
    "''';"
   ]
  },
  {
   "cell_type": "markdown",
   "metadata": {},
   "source": [
    "### Adding style via CSS"
   ]
  },
  {
   "cell_type": "markdown",
   "metadata": {},
   "source": [
    "Next, we set up a simple **Cascading Style Sheet (CSS)** file, *style.css*, to demonstrate how the look and feel of HTML documents can be modified. We have to save the following CSS file, which will simply double the font size of our HTML body elements, in a subdirectory called *static*, which is the default directory where Flask looks for static files such as CSS. The file content is as follows:"
   ]
  },
  {
   "cell_type": "code",
   "execution_count": 11,
   "metadata": {},
   "outputs": [],
   "source": [
    "'''\n",
    "body {\n",
    "    font-size: 2em;\n",
    "}\n",
    "''';"
   ]
  },
  {
   "cell_type": "markdown",
   "metadata": {},
   "source": [
    "The following are the contents of the modified *first_app.html* file that will now render a text form where a user can enter a name: "
   ]
  },
  {
   "cell_type": "code",
   "execution_count": 13,
   "metadata": {},
   "outputs": [],
   "source": [
    "'''\n",
    "<!doctype html>\n",
    "<html>\n",
    "    <head>\n",
    "        <title>First app</title>\n",
    "        <link rel=\"stylesheet\" href=\"{{ url_for('static',\n",
    "        filename='style.css') }}\">\n",
    "    </head>\n",
    "    <body>\n",
    "        {% from \"_formhelpers.html\" import render_field %}\n",
    "        <div>What's your name?</div>\n",
    "        <form method=post action=\"/hello\">\n",
    "            <dl>\n",
    "                {{ render_field(form.sayhello) }}\n",
    "            </dl>\n",
    "        <input type=submit value='Say Hello' name='submit_btn'>\n",
    "        </form>\n",
    "    </body>\n",
    "</html>\n",
    "''';"
   ]
  },
  {
   "cell_type": "markdown",
   "metadata": {},
   "source": [
    "In the header section of *first_app.html*, we loaded the CSS file. It should now alter the size of all text elements in the HTML body. In the HTML body section, we imported the form macro from *_formhelpers.html*, and we rendered the *sayhello* form that we specified in the *app.py* file. Furthermore, we added a button to the same form element so that a user can submit the text field entry. "
   ]
  },
  {
   "cell_type": "markdown",
   "metadata": {},
   "source": [
    "### Creating the result page"
   ]
  },
  {
   "cell_type": "markdown",
   "metadata": {},
   "source": [
    "Lastly, we will create a *hello.html* file that will be rendered via the *render_template('hello.html', name=name)* line return inside the *hello* function, which we defined in the *app.py* script to display the text that a user submitted via the text field. The file content is as follows:"
   ]
  },
  {
   "cell_type": "code",
   "execution_count": null,
   "metadata": {},
   "outputs": [],
   "source": [
    "'''\n",
    "<!doctype html>\n",
    "<html>\n",
    "    <head>\n",
    "        <title>First app</title>\n",
    "    <link rel=\"stylesheet\" href=\"{{ url_for('static', filename='style.css') }}\">\n",
    "    </head>\n",
    "    <body>\n",
    "        <div>Hello {{ name }}</div>\n",
    "    </body>\n",
    "</html>\n",
    "''';"
   ]
  },
  {
   "cell_type": "markdown",
   "metadata": {},
   "source": [
    "Having set up our modified Flask web application, we can run it locally by executing the following command from the application's main directory, and we can view the results in our web browser at *http://127.0.0.1:5000*: \n",
    "\n",
    "**python3 app.py**"
   ]
  },
  {
   "cell_type": "markdown",
   "metadata": {},
   "source": [
    "# Turning the movie review classifier into a web application"
   ]
  },
  {
   "cell_type": "markdown",
   "metadata": {},
   "source": [
    "Now that we are somewhat familiar with the basics of Flask web development, let's advance to the next step and implement our movie classifier into a web application. In this section, we will develop a web application that will first prompt a user to enter a movie review. \n",
    "\n",
    "<img src='images/09_04.png'>\n",
    "\n",
    "After the review has been submitted, the user will see a new page that shows the predicted class label and the probability of the prediction. Furthermore, the user will be able to provide feedback about this prediction by clicking on the **Correct** or **Incorrect** button. \n",
    "\n",
    "<img src='images/09_05.png'>\n",
    "\n",
    "If a user clicked on either the **Correct** or **Incorrect** button, our classification model will be updated with respect to the user's feedback. Furthermore, we will also store the movie review text provided by the user as well as the suggested class label, which can be inferred from the button click, in a SQLite database for future reference. Alternatively, a user could skip the update step and click the **Submit another review** button to submit another review. \n",
    "\n",
    "The third page that the user will see after clicking on one of the feedback buttons is a simple *thank you* screen with a **Submit another review** button that redirects the user back to the start page. \n",
    "\n",
    "<img src='images/09_06.png'>"
   ]
  },
  {
   "cell_type": "markdown",
   "metadata": {},
   "source": [
    "## Files and folders - looking at the directory tree"
   ]
  },
  {
   "cell_type": "markdown",
   "metadata": {},
   "source": [
    "To start with the big picture, let's take a look at the directory tree that we are going to create for this movie classification application, which is shown here:\n",
    "\n",
    "<img src='images/09_07.png'>"
   ]
  },
  {
   "cell_type": "markdown",
   "metadata": {},
   "source": [
    "In the previous section of this chapter, we already created the *vectorizer.py* file, the SQLite database *reviews.sqlite*, and the *pkl_objects* subdirectory with the pickled Python objects. \n",
    "\n",
    "The *app.py* file in the main directory is the Python script that contains our Flask code, and we will use the *reviews.sqlite* database file to store the movie reviews that are being submitted to our web application. The *templates* subdirectory contains the HTML templates that will be rendered by Flask and displayed in the browser, and the *static* subdirectory will contain a simple CSS file to adjust the look of the rendered HTML code. "
   ]
  },
  {
   "cell_type": "markdown",
   "metadata": {},
   "source": [
    "## Implementing the main application as app.py"
   ]
  },
  {
   "cell_type": "markdown",
   "metadata": {},
   "source": [
    "Since the *app.py* file is rather long, we will conquer it in two steps. The first section of *app.py* imports the Python modules and objects that we are going to need, as well as the code to unpickle and set up our classification model: "
   ]
  },
  {
   "cell_type": "code",
   "execution_count": 14,
   "metadata": {},
   "outputs": [],
   "source": [
    "'''\n",
    "from flask import Flask, render_template, request\n",
    "from wtforms import Form, TextAreaField, validators\n",
    "import pickle\n",
    "import sqlite3\n",
    "import os\n",
    "import numpy as np\n",
    "\n",
    "# import HashingVectorizer from local dir\n",
    "from vectorizer import vect\n",
    "\n",
    "app = Flask(__name__)\n",
    "\n",
    "######## Preparing the Classifier\n",
    "cur_dir = os.path.dirname(__file__)\n",
    "clf = pickle.load(open(os.path.join(cur_dir,\n",
    "                 'pkl_objects',\n",
    "                 'classifier.pkl'), 'rb'))\n",
    "db = os.path.join(cur_dir, 'reviews.sqlite')\n",
    "\n",
    "def classify(document):\n",
    "    label = {0: 'negative', 1: 'positive'}\n",
    "    X = vect.transform([document])\n",
    "    y = clf.predict(X)[0]\n",
    "    proba = np.max(clf.predict_proba(X))\n",
    "    return label[y], proba\n",
    "\n",
    "def train(document, y):\n",
    "    X = vect.transform([document])\n",
    "    clf.partial_fit(X, [y])\n",
    "\n",
    "def sqlite_entry(path, document, y):\n",
    "    conn = sqlite3.connect(path)\n",
    "    c = conn.cursor()\n",
    "    c.execute(\"INSERT INTO review_db (review, sentiment, date)\"\\\n",
    "    \" VALUES (?, ?, DATETIME('now'))\", (document, y))\n",
    "    conn.commit()\n",
    "    conn.close()\n",
    "''';"
   ]
  },
  {
   "cell_type": "markdown",
   "metadata": {},
   "source": [
    "The first part of the *app.py* script should look very similar to us by now. We simply imported the *HashingVectorizer* and unpickled the logistic regression classifier. Next, we defined a *classify* function to return the predicted class label as well as the corresponding probability prediction of a given text document. The *train* function can be used to update the classifier, given that a document and a class label are provided. \n",
    "\n",
    "Using the *sql_entry* function, we can store a submitted movie review in our SQLite database along with its class label and timestamp for our personal records. Note that the *clf* object will be reset to its original, pickled state if we restart the web application. At the end of this chapter, you will learn how to use the data that we collect in the SQLite database to update the classifier permanently. \n",
    "\n",
    "The concepts in the second part of the *app.py* script should also look quite familiar to us:"
   ]
  },
  {
   "cell_type": "code",
   "execution_count": 15,
   "metadata": {},
   "outputs": [],
   "source": [
    "'''\n",
    "######## Flask\n",
    "class ReviewForm(Form):\n",
    "    moviereview = TextAreaField('',\n",
    "                                [validators.DataRequired(),\n",
    "                                validators.length(min=15)])\n",
    "\n",
    "@app.route('/')\n",
    "def index():\n",
    "    form = ReviewForm(request.form)\n",
    "    return render_template('reviewform.html', form=form)\n",
    "\n",
    "@app.route('/results', methods=['POST'])\n",
    "def results():\n",
    "    form = ReviewForm(request.form)\n",
    "    if request.method == 'POST' and form.validate():\n",
    "        review = request.form['moviereview']\n",
    "        y, proba = classify(review)\n",
    "        return render_template('results.html',\n",
    "                                content=review,\n",
    "                                prediction=y,\n",
    "                                probability=round(proba*100, 2))\n",
    "    return render_template('reviewform.html', form=form)\n",
    "\n",
    "@app.route('/thanks', methods=['POST'])\n",
    "def feedback():\n",
    "    feedback = request.form['feedback_button']\n",
    "    review = request.form['review']\n",
    "    prediction = request.form['prediction']\n",
    "\n",
    "    inv_label = {'negative': 0, 'positive': 1}\n",
    "    y = inv_label[prediction]\n",
    "    if feedback == 'Incorrect':\n",
    "        y = int(not(y))\n",
    "    train(review, y)\n",
    "    sqlite_entry(db, review, y)\n",
    "    return render_template('thanks.html')\n",
    "\n",
    "if __name__ == '__main__':\n",
    "    app.run(debug=True)\n",
    "''';"
   ]
  },
  {
   "cell_type": "markdown",
   "metadata": {},
   "source": [
    "We defined a *ReviewForm* class that instantiates a *TextAreaField*, which will be rendered in the *reviewform.html* template file (the landing page of our web application). This, in turn, is rendered by the *index* function. With the *validators.length(min=15)* parameter, we require the user to enter a review that contains at least 15 characters. Inside the *results* function, we fetch the contents of the submitted web form and pass it on to our classifier to predict the sentiment of the movie review, which will then be displayed in the rendered *results.html* template. \n",
    "\n",
    "The *feedback* function, which we implemented in *app.py* in the previous subsection, may look a little bit complicated at first glance. It essentially fetches the predicted class label from the *results.html* template if a user clicked on the **Correct** or **Incorrect** feedback button, and transforms the predicted sentiment back into an integer class label that will be used to update the classifier via the *train* function, which we implemented in the first section of the *app.py* script. Also, a new entry to the SQLite database will be made via the *sql_entry* function if feedback was provided, and eventually the *thanks.html* template will be rendered to thank the user for the feedback. "
   ]
  },
  {
   "cell_type": "markdown",
   "metadata": {},
   "source": [
    "## Setting up the review form"
   ]
  },
  {
   "cell_type": "markdown",
   "metadata": {},
   "source": [
    "Next, let's take a look at the *reviewform.html* template, which constitutes the starting page of our application: "
   ]
  },
  {
   "cell_type": "code",
   "execution_count": 16,
   "metadata": {},
   "outputs": [],
   "source": [
    "'''\n",
    "<!doctype html>\n",
    "<html>\n",
    "  <head>\n",
    "    <title>Movie Classification</title>\n",
    "\t<link rel=\"stylesheet\" href=\"{{ url_for('static', filename='style.css') }}\">\n",
    "  </head>\n",
    "  <body>\n",
    "\n",
    "<h2>Please enter your movie review:</h2>\n",
    "\n",
    "{% from \"_formhelpers.html\" import render_field %}\n",
    "\n",
    "<form method=post action=\"/results\">\n",
    "  <dl>\n",
    "\t{{ render_field(form.moviereview, cols='30', rows='10') }}\n",
    "  </dl>\n",
    "  <div>\n",
    "\t  <input type=submit value='Submit review' name='submit_btn'>\n",
    "  </div>\n",
    "</form>\n",
    "\n",
    "  </body>\n",
    "</html>\n",
    "''';"
   ]
  },
  {
   "cell_type": "markdown",
   "metadata": {},
   "source": [
    "Here, we simply imported the same *_formhelpers.html* template that we defined earlier. The *render_field* function of this macro is used to render a *TextAreaField* where a user can provide a movie review and submit it via the **Submit review** button displayed at the bottom of the page. This *TextAreaField* is 30 columns wide and 10 rows tall, and would look like this:\n",
    "\n",
    "<img src='images/09_10.png'>"
   ]
  },
  {
   "cell_type": "markdown",
   "metadata": {},
   "source": [
    "## Creating a results page template"
   ]
  },
  {
   "cell_type": "markdown",
   "metadata": {},
   "source": [
    "Our next template, *results.html*, looks a little bit more interesting:"
   ]
  },
  {
   "cell_type": "code",
   "execution_count": 17,
   "metadata": {},
   "outputs": [],
   "source": [
    "'''\n",
    "<!doctype html>\n",
    "<html>\n",
    "  <head>\n",
    "    <title>Movie Classification</title>\n",
    "\t<link rel=\"stylesheet\" href=\"{{ url_for('static', filename='style.css') }}\">\n",
    "  </head>\n",
    "  <body>\n",
    "\n",
    "<h3>Your movie review:</h3>\n",
    "<div>{{ content }}</div>\n",
    "\n",
    "<h3>Prediction:</h3>\n",
    "<div>This movie review is <strong>{{ prediction }}</strong>\n",
    "\t (probability: {{ probability }}%).</div>\n",
    "\n",
    "<div id='button'>\n",
    "\t  <form action=\"/thanks\" method=\"post\">\n",
    "\t    <input type=submit value='Correct' name='feedback_button'>\n",
    "\t\t<input type=submit value='Incorrect' name='feedback_button'>\n",
    "\t\t<input type=hidden value='{{ prediction }}' name='prediction'>\n",
    "\t\t<input type=hidden value='{{ content }}' name='review'>\n",
    "\t  </form>\n",
    "</div>\n",
    "\n",
    "<div id='button'>\n",
    "\t  <form action=\"/\">\n",
    "\t    <input type=submit value='Submit another review'>\n",
    "\t  </form>\n",
    "</div>\n",
    "\n",
    "  </body>\n",
    "</html>\n",
    "''';"
   ]
  },
  {
   "cell_type": "markdown",
   "metadata": {},
   "source": [
    "First, we inserted the submitted review, as well as the result of the prediction, in the corresponding field *{{ content }}*, *{{ prediction }}*, and *{{ probability }}*. You may notice that we used the *{{ content }}* and *{{ prediction }}* placeholder variables a second time in the form that contains the **Correct** and **Incorrect** buttons. This is a workaround to *POST* those values back to the server to update the classifier and store the review in case the user clicks on one of those two buttons. \n",
    "\n",
    "Furthermore, we imported a CSS file (*style.css*) at the beginning of the *results.html* file. The setup of this file is quite simple; it limits the width of the contents of this web application to 600 pixels and moves the **Incorrect** and **Correct** buttons labeled with the div ID *button* down by 20 pixels: "
   ]
  },
  {
   "cell_type": "code",
   "execution_count": 18,
   "metadata": {},
   "outputs": [],
   "source": [
    "'''\n",
    "body{\n",
    "\twidth:600px;\n",
    "}\n",
    "\n",
    ".button{\n",
    "\tpadding-top: 20px;\n",
    "}\n",
    "''';"
   ]
  },
  {
   "cell_type": "markdown",
   "metadata": {},
   "source": [
    "This CSS file is merely a placeholder, so please feel free to adjust it to adjust the look and feel of the web application to your liking. \n",
    "\n",
    "The last HTML file we will implement for our web application is the *thanks.html* template. As the name suggests, it simply provides a nice *thank you* message to the user after proving feedback via the **Correct** or **Incorrect** button. Furthermore, we will put a **Submit another review** button at the bottom of this page, which will redirect the user to the starting page. The contents of the *thanks.html* file are as follows: "
   ]
  },
  {
   "cell_type": "code",
   "execution_count": 19,
   "metadata": {},
   "outputs": [],
   "source": [
    "'''\n",
    "<!doctype html>\n",
    "<html>\n",
    "  <head>\n",
    "    <title>Movie Classification</title>\n",
    "\t<link rel=\"stylesheet\" href=\"{{ url_for('static', filename='style.css') }}\">\n",
    "  </head>\n",
    "  <body>\n",
    "\n",
    "<h3>Thank you for your feedback!</h3>\n",
    "\n",
    "<div id='button'>\n",
    "\t  <form action=\"/\">\n",
    "\t    <input type=submit value='Submit another review'>\n",
    "\t  </form>\n",
    "</div>\n",
    "\n",
    "  </body>\n",
    "</html>\n",
    "''';"
   ]
  },
  {
   "cell_type": "markdown",
   "metadata": {},
   "source": [
    "Now, it would be a good idea to start the web application locally from our terminal via the following command before we advance to the next subsection and deploy it on a public web server:\n",
    "\n",
    "**python3 app.py**\n",
    "\n",
    "After we have finished testing our application, we also should not forget to remove the *debug=True* argument in the *app.run()* command of our *app.py* script. "
   ]
  },
  {
   "cell_type": "markdown",
   "metadata": {},
   "source": [
    "# Deploying the web application to a public server"
   ]
  },
  {
   "cell_type": "markdown",
   "metadata": {},
   "source": [
    "After we have tested the web application locally, we are now ready the employ our web application onto a public web server. For this tutorial, we will be using the PythonAnywhere web hosting service, which specializes in the hosting of Python web applications and makes it extremely simple and hassle-free. Furthermore, PythonAnywhere offers a beginner account option that lets us run a single web application free of charge. "
   ]
  },
  {
   "cell_type": "markdown",
   "metadata": {},
   "source": [
    "## Creating a PythonAnywhere account"
   ]
  },
  {
   "cell_type": "markdown",
   "metadata": {},
   "source": [
    "To create a new PythonAnywhere account, we visit the website at https://www.pythonanywhere.com/ and click on the **Pricing & signup** link that is located in the top-right corner. Next, we click on the **Create a Beginner account** button where we need to provide a username, password, and valid email address. After we have read and agreed to the terms and conditions, we should have a new account. \n",
    "\n",
    "Unfortunately, the free beginner account does not allow us to access the remote server via the SSH protocol from our terminal. Thus, we need to use the PythonAnywhere web interface to manage our web application. But before we can upload our local application files to the server, we need to create a new web application for our PythonAnywhere account. After we click on the **Dashboard** button in the top-right corner, we have access to the control panel shown at the top of the page. Next, we click on the **Web** tab that is not visible at the top of the page. We proceed by clicking on the **+Add a new web app** button on the left, which lets us create a new Python 3.5 Flask web application that we name *movieclassifier*. "
   ]
  },
  {
   "cell_type": "markdown",
   "metadata": {},
   "source": [
    "## Uploading the movie classifier application"
   ]
  },
  {
   "cell_type": "markdown",
   "metadata": {},
   "source": [
    "After creating a new application for our PythonAnywhere account, we head over to the **Files** tab, to upload the flies from our local *movieclassifier* directory using the PythonAnywhere web interface. After uploading the web application files that we created locally on our computer, we should have a *movieclassifier* directory in our PythonAnywhere account. It contains the same directories and files as our local *movieclassifier* directory has. \n",
    "\n",
    "Lastly, we have over to the **Web** one more time and click on the **Reload username.pythonanywhere.com** button to propagate the change and refresh our web application. Finally, our web application should now be up and running and publicly available via *username.pythonanywhere.com*."
   ]
  },
  {
   "cell_type": "markdown",
   "metadata": {},
   "source": [
    "# Updating the movie classifier"
   ]
  },
  {
   "cell_type": "markdown",
   "metadata": {},
   "source": [
    "While our predictive model is updated on the fly whenever a user provides feedback about the classification, the updates to the *clf* object will be reset if the web server crashes or restarts. If we reload the web application, the *clf* object will be reinitialized from the *classifier.pkl* pickle file. One option to apply the updates permanently would be to pickle the *clf* object once again after each update. However, this would become computationally very inefficient with a growing number of users, and could corrupt the pickle file if users provide feedback simultaneously. \n",
    "\n",
    "An alternative solution is to update the predictive model from the feedback data that is being collected in the SQLite database. One option would be to download the SQLite database from the PythonAnywhere server, update the *clf* object locally on our computer, and upload the new pickle file to PythonAnywhere. To update the classifier locally on our computer, we create an *update.py* script file in the *movieclassifier* directory with the following contents:"
   ]
  },
  {
   "cell_type": "code",
   "execution_count": 4,
   "metadata": {},
   "outputs": [],
   "source": [
    "'''\n",
    "import pickle \n",
    "import sqlite3\n",
    "import numpy as np\n",
    "import os\n",
    "\n",
    "#import HashingVectorizer from local dir\n",
    "from vectorizer import vect\n",
    "\n",
    "def update_model(df_path, model, batch_size=10000):\n",
    "    \n",
    "    conn = sqlite3.connect(db_path)\n",
    "    c = conn.cursor()\n",
    "    c.execute('SELECT * from review_db')\n",
    "    \n",
    "    results = c.fetchmany(batch_size)\n",
    "    while results: \n",
    "        data = np.array(results)\n",
    "        X = data[:, 0]\n",
    "        y = data[:, 1].astype(int)\n",
    "        \n",
    "        classes = np.array([0, 1])\n",
    "        X_train = vect.transform(X)\n",
    "        model.partial_fit(X_train, y, classes=classes)\n",
    "        results = c.fetchmany(batch_size)\n",
    "    \n",
    "    conn.close()\n",
    "    return model\n",
    "\n",
    "cur_dir = os.path.dirname(__file__)\n",
    "\n",
    "clf = pickle.load(open(os.path.join(cur_dir, 'pkl_objects', 'classifier.pkl'), 'rb'))\n",
    "db = os.path.join(cur_dir, 'reviews.sqlite')\n",
    "\n",
    "clf = update_model(db_path=db, model=clf, batch_size=10000)\n",
    "\n",
    "pickle.dump(clf, open(os.path.join(cur_dir, 'pkl_objects', 'classifier.pkl'), 'wb'), protocol=4)\n",
    "''';"
   ]
  },
  {
   "cell_type": "markdown",
   "metadata": {},
   "source": [
    "The *update_model* function will fetch entries from the SQLite database in batches of 10000 entries at a time, unless the database contains fewer entries. Alternatively, we could also fetch one entry at a time by using *fetchone* instead of *fetchmany*, which would be computationally very inneficient. However, keep in mind that using the alternative *fetchall* method would be a problem if we are working with large datasets that exceed the computer or server's memory capacity. \n",
    "\n",
    "Now that we have created the *update.py* script, we could also upload it to the *movieclassifier* directory on PythonAnywhere, and import the *update_model* function in the main application script *app.py* to update the classifier from the SQLite database every time we restart the web application. In order to do so, we just need a line of code to import the *update_model* function from the *update.py* script at the top of *app.py*:"
   ]
  },
  {
   "cell_type": "code",
   "execution_count": 6,
   "metadata": {},
   "outputs": [],
   "source": [
    "#from update import update_model"
   ]
  },
  {
   "cell_type": "markdown",
   "metadata": {},
   "source": [
    "We then need to call the *update_model* function in the main application body:"
   ]
  },
  {
   "cell_type": "code",
   "execution_count": 7,
   "metadata": {},
   "outputs": [],
   "source": [
    "'''\n",
    "if __name__ == '__main__':\n",
    "    clf = update_model(db_path=db, model=clf, batch_size=10000)\n",
    "''';"
   ]
  },
  {
   "cell_type": "markdown",
   "metadata": {},
   "source": [
    "As discussed, the modification in the previous code snippet will update the pickle file on PythonAnywhere. However, in practice, we do not often have to restart our web application, and it would make sense to validate the user feedback in the SQLite database prior to the update to make sure the feedback is valuable information for the classifier. "
   ]
  },
  {
   "cell_type": "markdown",
   "metadata": {},
   "source": [
    "# Summary"
   ]
  },
  {
   "cell_type": "markdown",
   "metadata": {},
   "source": [
    "In this chapter, you learned about many useful and practical topics that extend our knowledge of machine learning theory. You learned how to serialize a model after training and how to load it for later use cases. Furthermore, we created a SQLite database for efficient data storage and created a web application that let us make our movie classifier available to the outside world. \n",
    "\n",
    "Throughout this book, we have really discussed a lot about machine learning concepts, best practices, and supervised models for classification. In the next chapter, we will take a look at another subcategory of supervised learning, regression analysis, which lets us predict outcome variables on a continuous scale, in contrast to the categorical class labels of the classification models that we have been working with so far. "
   ]
  }
 ],
 "metadata": {
  "kernelspec": {
   "display_name": "Python 3",
   "language": "python",
   "name": "python3"
  },
  "language_info": {
   "codemirror_mode": {
    "name": "ipython",
    "version": 3
   },
   "file_extension": ".py",
   "mimetype": "text/x-python",
   "name": "python",
   "nbconvert_exporter": "python",
   "pygments_lexer": "ipython3",
   "version": "3.6.4"
  }
 },
 "nbformat": 4,
 "nbformat_minor": 2
}
